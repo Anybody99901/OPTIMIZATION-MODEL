{
 "cells": [
  {
   "cell_type": "markdown",
   "id": "0e5e7fb2",
   "metadata": {},
   "source": [
    "# 🧠 Task 4 - Optimization Model (CodTech Internship)\n",
    "\n",
    "## 🎯 Objective:\n",
    "Solve a business problem using linear programming and Python's PuLP library.\n"
   ]
  },
  {
   "cell_type": "code",
   "execution_count": 9,
   "id": "f5d2c5a3",
   "metadata": {},
   "outputs": [],
   "source": [
    "from pulp import LpMaximize, LpProblem, LpVariable, lpSum, LpStatus\n"
   ]
  },
  {
   "cell_type": "code",
   "execution_count": 10,
   "id": "15dd3c6a",
   "metadata": {},
   "outputs": [],
   "source": [
    "model = LpProblem(name=\"product-mix\", sense=LpMaximize)\n",
    "x = LpVariable(name=\"Product_A\", lowBound=0)\n",
    "y = LpVariable(name=\"Product_B\", lowBound=0)\n"
   ]
  },
  {
   "cell_type": "code",
   "execution_count": 11,
   "id": "77327dfe",
   "metadata": {},
   "outputs": [],
   "source": [
    "model += 20 * x + 30 * y, \"Total_Profit\"\n",
    "model += 4 * x + 6 * y <= 240, \"Labor_hours_constraint\"\n",
    "model += 2 * x + y <= 100, \"Raw_material_constraint\"\n"
   ]
  },
  {
   "cell_type": "code",
   "execution_count": 12,
   "id": "e2952698",
   "metadata": {},
   "outputs": [
    {
     "data": {
      "text/plain": [
       "1"
      ]
     },
     "execution_count": 12,
     "metadata": {},
     "output_type": "execute_result"
    }
   ],
   "source": [
    "model.solve()\n"
   ]
  },
  {
   "cell_type": "code",
   "execution_count": 14,
   "id": "b4a1cc36",
   "metadata": {},
   "outputs": [
    {
     "name": "stdout",
     "output_type": "stream",
     "text": [
      "Status: 1, Optimal\n",
      "Produce 0.0 units of Product A\n",
      "Produce 40.0 units of Product B\n",
      "Maximum Profit: $1200.0\n"
     ]
    }
   ],
   "source": [
    "print(f\"Status: {model.status}, {LpStatus[model.status]}\")\n",
    "print(f\"Produce {x.value()} units of Product A\")\n",
    "print(f\"Produce {y.value()} units of Product B\")\n",
    "print(f\"Maximum Profit: ${value(model.objective)}\")\n"
   ]
  }
 ],
 "metadata": {
  "kernelspec": {
   "display_name": "Python 3",
   "language": "python",
   "name": "python3"
  },
  "language_info": {
   "codemirror_mode": {
    "name": "ipython",
    "version": 3
   },
   "file_extension": ".py",
   "mimetype": "text/x-python",
   "name": "python",
   "nbconvert_exporter": "python",
   "pygments_lexer": "ipython3",
   "version": "3.11.8"
  }
 },
 "nbformat": 4,
 "nbformat_minor": 5
}
